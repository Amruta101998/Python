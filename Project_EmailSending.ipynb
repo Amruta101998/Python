{
 "cells": [
  {
   "cell_type": "code",
   "execution_count": 1,
   "metadata": {},
   "outputs": [
    {
     "name": "stdout",
     "output_type": "stream",
     "text": [
      "Collecting emails"
     ]
    },
    {
     "name": "stderr",
     "output_type": "stream",
     "text": [
      "WARNING: You are using pip version 20.2.4; however, version 20.3.1 is available.\n",
      "You should consider upgrading via the 'c:\\python\\python39\\python.exe -m pip install --upgrade pip' command.\n"
     ]
    },
    {
     "name": "stdout",
     "output_type": "stream",
     "text": [
      "\n",
      "  Downloading emails-0.6-py2.py3-none-any.whl (56 kB)\n",
      "Collecting premailer\n",
      "  Downloading premailer-3.7.0-py2.py3-none-any.whl (18 kB)\n",
      "Requirement already satisfied: python-dateutil in c:\\python\\python39\\lib\\site-packages (from emails) (2.8.1)\n",
      "Collecting lxml\n",
      "  Downloading lxml-4.6.2-cp39-cp39-win_amd64.whl (3.5 MB)\n",
      "Collecting cssutils\n",
      "  Downloading cssutils-1.0.2-py3-none-any.whl (406 kB)\n",
      "Collecting chardet\n",
      "  Downloading chardet-4.0.0-py2.py3-none-any.whl (178 kB)\n",
      "Collecting requests\n",
      "  Downloading requests-2.25.1-py2.py3-none-any.whl (61 kB)\n",
      "Collecting cachetools\n",
      "  Downloading cachetools-4.2.0-py3-none-any.whl (12 kB)\n",
      "Collecting cssselect\n",
      "  Downloading cssselect-1.1.0-py2.py3-none-any.whl (16 kB)\n",
      "Requirement already satisfied: six>=1.5 in c:\\python\\python39\\lib\\site-packages (from python-dateutil->emails) (1.15.0)\n",
      "Collecting certifi>=2017.4.17\n",
      "  Downloading certifi-2020.12.5-py2.py3-none-any.whl (147 kB)\n",
      "Collecting urllib3<1.27,>=1.21.1\n",
      "  Downloading urllib3-1.26.2-py2.py3-none-any.whl (136 kB)\n",
      "Collecting idna<3,>=2.5\n",
      "  Downloading idna-2.10-py2.py3-none-any.whl (58 kB)\n",
      "Installing collected packages: lxml, cachetools, cssutils, certifi, chardet, urllib3, idna, requests, cssselect, premailer, emails\n",
      "Successfully installed cachetools-4.2.0 certifi-2020.12.5 chardet-4.0.0 cssselect-1.1.0 cssutils-1.0.2 emails-0.6 idna-2.10 lxml-4.6.2 premailer-3.7.0 requests-2.25.1 urllib3-1.26.2\n"
     ]
    }
   ],
   "source": [
    "!pip install emails"
   ]
  },
  {
   "cell_type": "code",
   "execution_count": 13,
   "metadata": {},
   "outputs": [],
   "source": [
    "import emails"
   ]
  },
  {
   "cell_type": "code",
   "execution_count": 18,
   "metadata": {},
   "outputs": [],
   "source": [
    "html_text = '''<p><span style=\"color: rgb(97, 189, 109);\">HEY SIR,</span></p>\n",
    "<p>How are you this is Amruta as a student,</p>\n",
    "<p><em><span style=\"background-color: rgb(247, 218, 100);\">Nice Teaching and interaction!!</span></em></p>\n",
    "<p>Love your teaching concept , hope you like this project</p>\n",
    "<p style=\"text-align: right;\">Regards,</p>\n",
    "<p style=\"line-height: 1; text-align: right;\"><span style=\"background-color: rgb(251, 160, 38);\">Amruta Hulagur</span></p>'''\n",
    "\n",
    "\n",
    "message = emails.html(html=html_text,\n",
    "                          subject=\"Your EMAIL FROM PYTHON SCRIPT\",\n",
    "                          mail_from=('Python Program', 'letsupgradepython@gmail.com'))\n"
   ]
  },
  {
   "cell_type": "code",
   "execution_count": 19,
   "metadata": {},
   "outputs": [],
   "source": [
    "mail_via_python = message.send(to='gevev52491@ahhtee.com', \n",
    "                               smtp={'host': 'smtp.gmail.com', \n",
    "                                     'timeout': 5,\n",
    "                                    'port':587,\n",
    "                                    'user':'letsupgradepython@gmail.com',\n",
    "                                    'password':'AH@123456',\n",
    "                                    'tls':True})\n"
   ]
  },
  {
   "cell_type": "code",
   "execution_count": 20,
   "metadata": {},
   "outputs": [
    {
     "data": {
      "text/plain": [
       "<emails.backend.SMTPResponse status_code=250 status_text=b'2.0.0 OK  1608379926 x5sm10366231pjr.38 - gsmtp'>"
      ]
     },
     "execution_count": 20,
     "metadata": {},
     "output_type": "execute_result"
    }
   ],
   "source": [
    "mail_via_python"
   ]
  },
  {
   "cell_type": "code",
   "execution_count": 21,
   "metadata": {},
   "outputs": [],
   "source": [
    "def sendMail(email, name):\n",
    "    \n",
    "    html_text = '''<p><span style=\"color: rgb(97, 189, 109);\">HEY SIR,</span></p>\n",
    "                   <p>How are you this is Amruta as a student,</p>\n",
    "                   <p><em><span style=\"background-color: rgb(247, 218, 100);\">Nice Teaching and interaction!!</span></em></p>\n",
    "                   <p>Love your teaching concept , hope you like this project</p>\n",
    "                   <p style=\"text-align: right;\">Regards,</p>\n",
    "                   <p style=\"line-height: 1; text-align: right;\"><span style=\"background-color: rgb(251, 160, 38);\">Amruta Hulagur</span></p>'''\n",
    "\n",
    "    subject = \"Hey Rowdy \"+ name + \", you have EMAIL FROM LetsUpgrade\"\n",
    "    message = emails.html(html=html_text,\n",
    "                          subject=subject,\n",
    "                          mail_from=('Python Program', 'letsupgradepython@gmail.com'))\n",
    "\n",
    "    \n",
    "    mail_via_python = message.send(to=email, \n",
    "                               smtp={'host': 'smtp.gmail.com', \n",
    "                                     'timeout': 5,\n",
    "                                    'port':587,\n",
    "                                    'user':'letsupgradepython@gmail.com',\n",
    "                                    'password':'AH@123456',\n",
    "                                    'tls':True})\n",
    "    return mail_via_python.status_code"
   ]
  },
  {
   "cell_type": "code",
   "execution_count": 22,
   "metadata": {},
   "outputs": [
    {
     "data": {
      "text/plain": [
       "250"
      ]
     },
     "execution_count": 22,
     "metadata": {},
     "output_type": "execute_result"
    }
   ],
   "source": [
    "sendMail(\"gevev52491@ahhtee.com\",\"Python\")"
   ]
  },
  {
   "cell_type": "code",
   "execution_count": null,
   "metadata": {},
   "outputs": [],
   "source": []
  }
 ],
 "metadata": {
  "kernelspec": {
   "display_name": "Python 3",
   "language": "python",
   "name": "python3"
  },
  "language_info": {
   "codemirror_mode": {
    "name": "ipython",
    "version": 3
   },
   "file_extension": ".py",
   "mimetype": "text/x-python",
   "name": "python",
   "nbconvert_exporter": "python",
   "pygments_lexer": "ipython3",
   "version": "3.9.0"
  }
 },
 "nbformat": 4,
 "nbformat_minor": 4
}
