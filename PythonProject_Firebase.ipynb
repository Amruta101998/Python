{
 "cells": [
  {
   "cell_type": "code",
   "execution_count": 5,
   "metadata": {},
   "outputs": [
    {
     "name": "stdout",
     "output_type": "stream",
     "text": [
      "Requirement already satisfied: firebase in c:\\python\\python39\\lib\\site-packages (3.0.1)\n",
      "Requirement already satisfied: requests in c:\\python\\python39\\lib\\site-packages (from firebase) (2.25.1)\n",
      "Requirement already satisfied: urllib3<1.27,>=1.21.1 in c:\\python\\python39\\lib\\site-packages (from requests->firebase) (1.26.2)\n",
      "Requirement already satisfied: idna<3,>=2.5 in c:\\python\\python39\\lib\\site-packages (from requests->firebase) (2.10)\n",
      "Requirement already satisfied: chardet<5,>=3.0.2 in c:\\python\\python39\\lib\\site-packages (from requests->firebase) (4.0.0)\n",
      "Requirement already satisfied: certifi>=2017.4.17 in c:\\python\\python39\\lib\\site-packages (from requests->firebase) (2020.12.5)\n"
     ]
    },
    {
     "name": "stderr",
     "output_type": "stream",
     "text": [
      "WARNING: You are using pip version 20.2.4; however, version 20.3.1 is available.\n",
      "You should consider upgrading via the 'c:\\python\\python39\\python.exe -m pip install --upgrade pip' command.\n"
     ]
    }
   ],
   "source": [
    "!pip install firebase"
   ]
  },
  {
   "cell_type": "code",
   "execution_count": 6,
   "metadata": {},
   "outputs": [],
   "source": [
    "import firebase_admin"
   ]
  },
  {
   "cell_type": "code",
   "execution_count": 3,
   "metadata": {},
   "outputs": [],
   "source": [
    "\n",
    "from firebase_admin import credentials\n",
    "from firebase_admin import firestore"
   ]
  },
  {
   "cell_type": "code",
   "execution_count": 4,
   "metadata": {},
   "outputs": [
    {
     "data": {
      "text/plain": [
       "<firebase_admin.App at 0x1a4996f1eb0>"
      ]
     },
     "execution_count": 4,
     "metadata": {},
     "output_type": "execute_result"
    }
   ],
   "source": [
    "cred = credentials.Certificate(\"python-project-5d95b-firebase-adminsdk-bviai-9352d1b03f.json\")\n",
    "firebase_admin.initialize_app(cred)"
   ]
  },
  {
   "cell_type": "code",
   "execution_count": 7,
   "metadata": {},
   "outputs": [],
   "source": [
    "db = firestore.client()"
   ]
  },
  {
   "cell_type": "code",
   "execution_count": 25,
   "metadata": {},
   "outputs": [
    {
     "data": {
      "text/plain": [
       "update_time {\n",
       "  seconds: 1608388382\n",
       "  nanos: 292827000\n",
       "}"
      ]
     },
     "execution_count": 25,
     "metadata": {},
     "output_type": "execute_result"
    }
   ],
   "source": [
    "doc_ref = db.collection(u'users').document(u'abc')\n",
    "\n",
    "doc_ref.set({\n",
    "    u'first': u'Ryan',\n",
    "    u'last': u'Sharma',\n",
    "    u'born': 1998\n",
    "})"
   ]
  },
  {
   "cell_type": "code",
   "execution_count": 12,
   "metadata": {},
   "outputs": [],
   "source": [
    "def enterDataInDB():\n",
    "    doc_ref = db.collection(u'abcd').document()\n",
    "    \n",
    "    name = input(\"Enter Name - \")\n",
    "    lastName = input(\"Enter Last Name - \")\n",
    "    age = int(input(\"Enter Age - \"))\n",
    "    \n",
    "    dit = {}\n",
    "    dit[\"firstName\"] = name\n",
    "    dit[\"lastName\"] = lastName\n",
    "    dit[\"age\"] = age\n",
    "    \n",
    "    doc_ref.set(dit)\n",
    "    "
   ]
  },
  {
   "cell_type": "code",
   "execution_count": 14,
   "metadata": {},
   "outputs": [
    {
     "name": "stdout",
     "output_type": "stream",
     "text": [
      "Enter Name - ryan\n",
      "Enter Last Name - sharma\n",
      "Enter Age - 22\n"
     ]
    }
   ],
   "source": [
    "enterDataInDB()"
   ]
  },
  {
   "cell_type": "code",
   "execution_count": 15,
   "metadata": {},
   "outputs": [
    {
     "name": "stdout",
     "output_type": "stream",
     "text": [
      "Enter Name - holly\n",
      "Enter Last Name - rao\n",
      "Enter Age - 25\n"
     ]
    }
   ],
   "source": [
    "enterDataInDB()"
   ]
  },
  {
   "cell_type": "code",
   "execution_count": 16,
   "metadata": {},
   "outputs": [
    {
     "name": "stdout",
     "output_type": "stream",
     "text": [
      "Enter Name - micheal\n",
      "Enter Last Name - scot\n",
      "Enter Age - 27\n"
     ]
    }
   ],
   "source": [
    "enterDataInDB()"
   ]
  },
  {
   "cell_type": "code",
   "execution_count": 17,
   "metadata": {},
   "outputs": [
    {
     "name": "stdout",
     "output_type": "stream",
     "text": [
      "Enter Name - riya\n",
      "Enter Last Name - subodh\n",
      "Enter Age - 21\n"
     ]
    }
   ],
   "source": [
    "enterDataInDB()"
   ]
  },
  {
   "cell_type": "code",
   "execution_count": 20,
   "metadata": {},
   "outputs": [
    {
     "name": "stdout",
     "output_type": "stream",
     "text": [
      "ID -  26SoCbdA2MkxtCKi1rcB\n",
      "First Name -  riya\n",
      "Last Name -  subodh\n",
      "Age -  21\n",
      "---------------\n",
      "---------------\n",
      "ID -  CBNuf9trWkMISaAPMSO0\n",
      "First Name -  ryan\n",
      "Last Name -  sharma\n",
      "Age -  22\n",
      "---------------\n",
      "---------------\n",
      "ID -  ZZRtvasoefLFlD2EdhnJ\n",
      "First Name -  micheal\n",
      "Last Name -  scot\n",
      "Age -  27\n",
      "---------------\n",
      "---------------\n",
      "ID -  bWBKLDvek2HoMyRDVwQ3\n",
      "First Name -  holly\n",
      "Last Name -  rao\n",
      "Age -  25\n",
      "---------------\n",
      "---------------\n"
     ]
    }
   ],
   "source": [
    "docs = db.collection(u'abcd').stream()\n",
    "\n",
    "for doc in docs:\n",
    "#     print(f'{doc.id} => {doc.to_dict()}')\n",
    "    \n",
    "    print(\"ID - \", doc.id)\n",
    "    \n",
    "    print(\"First Name - \", doc.to_dict().get(\"firstName\"))\n",
    "    print(\"Last Name - \", doc.to_dict().get(\"lastName\"))\n",
    "    print(\"Age - \", doc.to_dict().get(\"age\") )\n",
    "    \n",
    "    print(\"---------------\")\n",
    "    print(\"---------------\")\n",
    "    "
   ]
  },
  {
   "cell_type": "code",
   "execution_count": 21,
   "metadata": {},
   "outputs": [],
   "source": [
    "def updateDatainFirebase(uid, updatedAge):\n",
    "    doc_ref = db.collection(u'abcd').document(uid)\n",
    "    \n",
    "    doc_ref.update({\"age\":updatedAge})"
   ]
  },
  {
   "cell_type": "code",
   "execution_count": 22,
   "metadata": {},
   "outputs": [],
   "source": [
    "updateDatainFirebase(\"bWBKLDvek2HoMyRDVwQ3\",30)"
   ]
  },
  {
   "cell_type": "code",
   "execution_count": 23,
   "metadata": {},
   "outputs": [],
   "source": [
    "def deleteDataInFirebase(uid):\n",
    "    db.collection(u'abcd').document(uid).delete()"
   ]
  },
  {
   "cell_type": "code",
   "execution_count": 24,
   "metadata": {},
   "outputs": [],
   "source": [
    "deleteDataInFirebase(\"CBNuf9trWkMISaAPMSO0\")"
   ]
  },
  {
   "cell_type": "code",
   "execution_count": null,
   "metadata": {},
   "outputs": [],
   "source": []
  }
 ],
 "metadata": {
  "kernelspec": {
   "display_name": "Python 3",
   "language": "python",
   "name": "python3"
  },
  "language_info": {
   "codemirror_mode": {
    "name": "ipython",
    "version": 3
   },
   "file_extension": ".py",
   "mimetype": "text/x-python",
   "name": "python",
   "nbconvert_exporter": "python",
   "pygments_lexer": "ipython3",
   "version": "3.9.0"
  }
 },
 "nbformat": 4,
 "nbformat_minor": 4
}
